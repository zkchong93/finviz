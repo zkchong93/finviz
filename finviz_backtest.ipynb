{
 "cells": [
  {
   "cell_type": "code",
   "execution_count": 1,
   "id": "3c4c4681-b30d-463d-b6e0-04074c8d31f7",
   "metadata": {
    "execution": {
     "iopub.execute_input": "2025-06-13T02:41:41.872406Z",
     "iopub.status.busy": "2025-06-13T02:41:41.872124Z",
     "iopub.status.idle": "2025-06-13T02:42:23.418694Z",
     "shell.execute_reply": "2025-06-13T02:42:23.417846Z"
    }
   },
   "outputs": [
    {
     "name": "stdout",
     "output_type": "stream",
     "text": [
      "Processing page 1...\n"
     ]
    },
    {
     "name": "stdout",
     "output_type": "stream",
     "text": [
      "Processing page 2...\n"
     ]
    }
   ],
   "source": [
    "import requests\n",
    "from bs4 import BeautifulSoup\n",
    "import re\n",
    "from urllib.parse import parse_qs, urlparse\n",
    "import pandas as pd\n",
    "import time\n",
    "import random\n",
    "from datetime import date, timedelta\n",
    "\n",
    "# Get the number of pages to scrap\n",
    "start_url = \"https://finviz.com/screener.ashx?v=131&f=sh_avgvol_o100,sh_float_o5,sh_price_o1,sh_relvol_o1,sh_short_o15,ta_rsi_ob60,ta_sma20_pa&ft=4&o=shortinterestshare\"\n",
    "headers = {'User-Agent': 'Mozilla/5.0'}\n",
    "response = requests.get(start_url, headers=headers)\n",
    "time.sleep(random.randint(10, 15))\n",
    "\n",
    "soup = BeautifulSoup(response.text, 'html.parser')\n",
    "pagination = soup.find_all(\"a\", class_=\"screener-pages\")\n",
    "last_page = max([int(link.text) for link in pagination if link.text.isdigit()])+1\n",
    "\n",
    "# Placeholder URL\n",
    "base_url = \"https://finviz.com/screener.ashx?v=131&f=sh_avgvol_o100,sh_float_o5,sh_price_o1,sh_relvol_o1,sh_short_o15,ta_rsi_ob60,ta_sma20_pa&ft=4&o=shortinterestshare&r={}\"\n",
    "headers = {'User-Agent': 'Mozilla/5.0'}\n",
    "\n",
    "volume_data = []\n",
    "ticker_data = []\n",
    "short_float = []\n",
    "short_ratio = []\n",
    "\n",
    "page_number = 1\n",
    "\n",
    "while page_number < last_page:\n",
    "    url = base_url.format((page_number - 1) * 20 + 1)  # r=1, r=21, r=41,...\n",
    "    response = requests.get(url, headers=headers)\n",
    "    time.sleep(random.randint(10, 15))\n",
    "    soup = BeautifulSoup(response.text, 'html.parser')\n",
    "    \n",
    "    # Find table with float data\n",
    "    td_list = soup.find_all('td', align='right', height='10')\n",
    "    print(f\"Processing page {page_number}...\")\n",
    "    \n",
    "    if not td_list:\n",
    "        break  # Stop if no data found on this page\n",
    "\n",
    "    # For each row,\n",
    "    for i in range(8, len(td_list), 14): #3, 8, 9, 13\n",
    "        td = td_list[i]\n",
    "        a_tag = td.find('a')\n",
    "\n",
    "        # Get Float data from the current page\n",
    "        if a_tag and a_tag.text:\n",
    "            raw_value = a_tag.text.strip()\n",
    "            short_float.append(raw_value)\n",
    "\n",
    "        # Get ticker name from the current page\n",
    "        if a_tag and a_tag.has_attr('href'):\n",
    "            href = a_tag['href']\n",
    "            parsed_url = urlparse(href)\n",
    "            query_params = parse_qs(parsed_url.query)\n",
    "            ticker = query_params.get('t', [None])[0]\n",
    "            \n",
    "            if ticker:\n",
    "                ticker_data.append(ticker)\n",
    "\n",
    "    # Get Short data from the current page\n",
    "    for i in range(9, len(td_list), 14): #3, 8, 9, 13\n",
    "        td = td_list[i]\n",
    "        a_tag = td.find('a')\n",
    "\n",
    "        # Get Float data from the current page\n",
    "        if a_tag and a_tag.text:\n",
    "            raw_value = a_tag.text.strip()\n",
    "            short_ratio.append(raw_value)\n",
    "\n",
    "    # Get Short data from the current page\n",
    "    for i in range(13, len(td_list), 14): #3, 8, 9, 13\n",
    "        td = td_list[i]\n",
    "        a_tag = td.find('a')\n",
    "\n",
    "        # Get Float data from the current page\n",
    "        if a_tag and a_tag.text:\n",
    "            raw_value = a_tag.text.strip()\n",
    "            volume_data.append(raw_value)\n",
    "\n",
    "    page_number += 1\n",
    "\n",
    "# present as dataframe, export to csv\n",
    "df = pd.DataFrame({\n",
    "    'Ticker': ticker_data,\n",
    "    'Volume': volume_data,\n",
    "    'Short Float': short_float,\n",
    "    'Short Ratio': short_ratio\n",
    "})\n",
    "\n",
    "\n",
    "today = date.today() - timedelta(days=1)\n",
    "filename_date = today.strftime(\"%y%m%d\")\n",
    "df.to_csv(f'short_float_15p {filename_date}.csv', encoding='utf-8', index=False, header=True)"
   ]
  }
 ],
 "metadata": {
  "kernelspec": {
   "display_name": "Python 3 (ipykernel)",
   "language": "python",
   "name": "python3"
  },
  "language_info": {
   "codemirror_mode": {
    "name": "ipython",
    "version": 3
   },
   "file_extension": ".py",
   "mimetype": "text/x-python",
   "name": "python",
   "nbconvert_exporter": "python",
   "pygments_lexer": "ipython3",
   "version": "3.10.17"
  }
 },
 "nbformat": 4,
 "nbformat_minor": 5
}
